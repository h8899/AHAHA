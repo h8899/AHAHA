{
 "cells": [
  {
   "cell_type": "markdown",
   "metadata": {},
   "source": [
    "# Introduction\n",
    "\n",
    "\n",
    "**ASSIGNMENT DEADLINE: 4 MAR 2018 (SUN) 17:00PM**\n",
    "\n",
    "In this assignment we will be coding the building blocks for the convolutional neural network and putting them together to train a CNN on the MNIST dataset.\n",
    "\n",
    "**Attention: Only python3 will be allowed to use in this assignment. And we use `numpy` to store and caculate data and parameters. You do not need a GPU to for this assignment. CPU is enough. To run this Jupyter notebook, you need to install the depedent libraries in [requiremets.txt](requirements.txt) via pip (or pip3). Note: keras version should be >=2.1.2. Please do not run this whole file before you implement all the codes. Otherwise it will occur some error.**\n",
    "\n",
    "For each layer we will implement a forward and a backward function. The forward function will receive inputs and will return the outputs of this layer(loss layer will be a little different), like this:\n",
    "\n",
    "```python\n",
    "def forward(self, inputs):\n",
    "  \"\"\" Receive inputs and return output\"\"\"\n",
    "  # Do some computations ...\n",
    "  z = # ... some intermediate value\n",
    "  # Do some more computations ...\n",
    "  outputs = # the outputs\n",
    "    \n",
    "  return outputs\n",
    "```\n",
    "\n",
    "The backward pass will receive upstream derivatives and inputs, and will return gradients with respect to the inputs. Gradients for weights or bias will be stored in parameters in this layer , like this:\n",
    "\n",
    "```python\n",
    "def backward(self, in_grads, inputs):\n",
    "  \"\"\"\n",
    "  Receive derivative of loss with respect to outputs,\n",
    "  and compute derivative with respect to inputs.\n",
    "  \"\"\"\n",
    "  # Use values in cache to compute derivatives\n",
    "  out_grads = # Derivative of loss with respect to inputs\n",
    "  self.w_grad = # Derivative of loss with respect to self.weights\n",
    "  self.b_grad = # Derivative of loss with respect to self.bias\n",
    "    \n",
    "  return out_grads\n",
    "```\n",
    "\n",
    "After implementing a bunch of layers this way, we will be able to easily combine them to build classifiers with different architectures.\n",
    "\n",
    "This iPython notebook serves to:\n",
    "\n",
    "- explain the questions\n",
    "- explain the function APIs and implementation examples (like `ReLU`) \n",
    "- provide helper functions to piece functions together and check your code"
   ]
  },
  {
   "cell_type": "markdown",
   "metadata": {},
   "source": [
    "# ReLU layer\n",
    "A convolution layer is usually followed by a non-linear activation function. We will provide the functions `forward` and `backward` of class `ReLU` in `layers.py` as an implementation example. Read through the function code and make sure you understand the derivation. Besides, we will explain the implementation of `ReLU` after `Convolution` using formula. You need to write down other layers' formulations in your reports.\n",
    "\n",
    "## Forward Formulation\n",
    "Given input $x \\in R^{B \\times C \\times H \\times W}$ ($B$:batch size, $C$: number of channel, $H$: input height, $W$: input width),  output $y \\in R^{B \\times C \\times H \\times W}$ will be caculated like this:\n",
    "\n",
    "\\begin{equation*}\n",
    "y=indicator(x) \\times x\n",
    "\\end{equation*}\n",
    "\n",
    "Here, $indicator(x)$ return the same size of input $x$, comparing $x$ with 0 element-wisely. If $x_{i,j,k,l} \\geq 0$ return $z_{i,j,k,l}=1$. And the multiplication is also element-wise. If the input $x$ has only 2 dimensions, i.e. the batch dimension and the feature dimension, e.g. after the FC layer, the subscripts $j,k,l$ in the formula are merged into one $j$.\n",
    "\n",
    "## Backward Formulation\n",
    "Given input $x \\in R^{B \\times C \\times H \\times W}$ ($B$:batch size, $C$: number of channel, $H$: input height, $W$: input width) and gradients to output of this layer $dy \\in R^{B \\times C \\times H \\times W}$, gradients to input $dx$ will be caculated like this:\n",
    "\n",
    "\\begin{equation*}\n",
    "dx=indicator(x) \\times dy\n",
    "\\end{equation*}"
   ]
  },
  {
   "cell_type": "markdown",
   "metadata": {},
   "source": [
    "# Covolution Layer\n",
    "In the file `layers.py`, the class `Convolution` will be initialized with `conv_params`, `initializer` and `name`, shown as below:\n",
    "\n",
    "```python\n",
    "\n",
    "def __init__(self, conv_params, initializer=Guassian(), name='conv'):\n",
    "        super(Convolution, self).__init__(name=name)\n",
    "        self.trainable = True\n",
    "        self.kernel_h = conv_params['kernel_h'] # height of kernel\n",
    "        self.kernel_w = conv_params['kernel_w'] # width of kernel\n",
    "        self.pad = conv_params['pad']\n",
    "        self.stride = conv_params['stride']\n",
    "        self.in_channel = conv_params['in_channel']\n",
    "        self.out_channel = conv_params['out_channel']\n",
    "\n",
    "        self.weights = initializer.initialize((self.out_channel, self.in_channel, self.kernel_h, self.kernel_w))\n",
    "        self.bias = np.zeros((self.out_channel))\n",
    "\n",
    "        self.w_grad = np.zeros(self.weights.shape)\n",
    "        self.b_grad = np.zeros(self.bias.shape)\n",
    "```\n",
    "\n",
    "`conv_params` is a dictionary, containing these parameters:\n",
    "\n",
    "- 'kernel_h': The height of kernel.\n",
    "- 'kernel_w': The width of kernel.\n",
    "- 'stride': The number of pixels between adjacent receptive fields in the horizontal and vertical directions.\n",
    "- 'pad': The number of pixels padded to the bottom, top, left and right of each feature map. **Here, `pad=2` means a 2-pixel border of padded with zeros. So the total number of zeros for horizontal (or vertical) direction is 2\\*pad=4**.\n",
    "- 'in_channel': The number of input channels.\n",
    "- 'out_channel': The number of output channels.\n",
    "\n",
    "`initializer` is an instance of Initializer class (leave it out right now)"
   ]
  },
  {
   "cell_type": "markdown",
   "metadata": {},
   "source": [
    "## Forward\n",
    "In the file `layers.py`, implement the forward pass for a convolutional layer in the function `forward` of class `Convolution`.\n",
    "\n",
    "The input consists of N data points, each with C channels, height H and width W. We convolve each input with K different kernels, where each filter spans all C channels and has height HH and width WW.\n",
    "\n",
    "Input:\n",
    "\n",
    "- inputs: Input data of shape (N, C, H, W)\n",
    "\n",
    "**WARNING:** Please implement the matrix product method of convolution as shown in Lecture notes. The naive version of implementing a sliding window will be too slow when you try to train the whole CNN in later sections.\n",
    "\n",
    "You can test your implementation by restarting jupyter notebook kernel and running the following:"
   ]
  },
  {
   "cell_type": "code",
   "execution_count": 3,
   "metadata": {},
   "outputs": [
    {
     "name": "stdout",
     "output_type": "stream",
     "text": [
      "Relative error (<1e-6 will be fine):  5.760693176443912e-07\n"
     ]
    }
   ],
   "source": [
    "import numpy as np\n",
    "from layers import Convolution\n",
    "from utils.tools import rel_error\n",
    "\n",
    "import keras\n",
    "from keras import layers\n",
    "from keras import models\n",
    "from keras import optimizers\n",
    "from keras import backend as K\n",
    "\n",
    "import warnings\n",
    "warnings.filterwarnings('ignore')\n",
    "\n",
    "inputs = np.random.uniform(size=(10, 3, 30, 30))\n",
    "params = { 'kernel_h': 5,\n",
    "          'kernel_w': 5,\n",
    "          'pad': 0,\n",
    "          'stride': 2,\n",
    "          'in_channel': inputs.shape[1],\n",
    "          'out_channel': 64,\n",
    "}\n",
    "layer = Convolution(params)\n",
    "out = layer.forward(inputs)\n",
    "\n",
    "keras_model = models.Sequential()\n",
    "keras_layer = layers.Conv2D(filters=params['out_channel'],\n",
    "                            kernel_size=(params['kernel_h'], params['kernel_w']),\n",
    "                            strides=(params['stride'], params['stride']),\n",
    "                            padding='valid',\n",
    "                            data_format='channels_first',\n",
    "                            input_shape=inputs.shape[1:])\n",
    "keras_model.add(keras_layer)\n",
    "sgd = optimizers.SGD(lr=0.01)\n",
    "keras_model.compile(loss='mean_squared_error', optimizer='sgd')\n",
    "weights = np.transpose(layer.weights, (2, 3, 1, 0))\n",
    "keras_layer.set_weights([weights, layer.bias])\n",
    "keras_out = keras_model.predict(inputs, batch_size=inputs.shape[0])\n",
    "print('Relative error (<1e-6 will be fine): ', rel_error(out, keras_out))"
   ]
  },
  {
   "cell_type": "markdown",
   "metadata": {},
   "source": [
    "## Backward\n",
    "Implement the backward pass for the convolution operation in the function `backward` of `Convolution` class in the file `layers.py`. \n",
    "\n",
    "When you are done, restart jupyter notebook and run the following to check your backward pass with a numeric gradient check. \n",
    "\n",
    "In gradient checking, to get an approximate gradient for a parameter, we vary that parameter by a small amount (while keeping rest of parameters constant) and note the difference in the network loss. Dividing the difference in network loss by the amount we varied the parameter gives us an approximation for the gradient. We repeat this process for all the other parameters to obtain our numerical gradient. Note that gradient checking is a slow process (2 forward propagations per parameter) and should only be used to check your backpropagation!\n",
    "\n",
    "More links on gradient checking:\n",
    "\n",
    "http://ufldl.stanford.edu/tutorial/supervised/DebuggingGradientChecking/\n",
    "\n",
    "https://www.coursera.org/learn/machine-learning/lecture/Y3s6r/gradient-checking"
   ]
  },
  {
   "cell_type": "code",
   "execution_count": 4,
   "metadata": {},
   "outputs": [
    {
     "name": "stdout",
     "output_type": "stream",
     "text": [
      "(10, 3, 3, 3)\n",
      "<1e-8 will be fine\n",
      "Gradients to inputs: 1.6633843450478132e-11\n",
      "Gradients to weights:  5.346185077636451e-13\n",
      "Gradients to bias:  1.2519677437474206e-12\n"
     ]
    }
   ],
   "source": [
    "from layers import Convolution\n",
    "import numpy as np\n",
    "from utils.check_grads import check_grads_layer\n",
    "\n",
    "batch = 10\n",
    "conv_params={\n",
    "    'kernel_h': 3,\n",
    "    'kernel_w': 3,\n",
    "    'pad': 0,\n",
    "    'stride': 2,\n",
    "    'in_channel': 3,\n",
    "    'out_channel': 10\n",
    "}\n",
    "in_height = 10\n",
    "in_width = 20\n",
    "out_height = 1+(in_height+2*conv_params['pad']-conv_params['kernel_h'])//conv_params['stride']\n",
    "out_width = 1+(in_width+2*conv_params['pad']-conv_params['kernel_w'])//conv_params['stride']\n",
    "inputs = np.random.uniform(size=(batch, conv_params['in_channel'], in_height, in_width))\n",
    "in_grads = np.random.uniform(size=(batch, conv_params['out_channel'], out_height, out_width))\n",
    "conv = Convolution(conv_params)\n",
    "check_grads_layer(conv, inputs, in_grads)"
   ]
  },
  {
   "cell_type": "markdown",
   "metadata": {},
   "source": [
    "# Dropout Layer\n",
    "Dropout [1] is a technique for regularizing neural networks by randomly setting some features to zero during the forward pass. In this exercise you will implement a dropout layer and modify your fully-connected network to optionally use dropout.\n",
    "\n",
    "[1] Geoffrey E. Hinton et al, \"Improving neural networks by preventing co-adaptation of feature detectors\", arXiv 2012\n",
    "\n",
    "In the file `layers.py`, the class `FCLayer` will be initialized with `ratio`, `seed` and `name`, shown as below:\n",
    "```python\n",
    "def __init__(self, ratio, name='dropout', seed=None):\n",
    "        super(Dropout, self).__init__(name=name)\n",
    "        self.ratio = ratio\n",
    "        self.mask = None\n",
    "        self.seed = seed\n",
    "```\n",
    "\n",
    "- `ratio`: The probability of setting a neuron to zero\n",
    "- `seed`: Random seed to sample from inputs, so as to get mask. (default as None)"
   ]
  },
  {
   "cell_type": "markdown",
   "metadata": {},
   "source": [
    "## Forward\n",
    "In the file `layers.py`, implement the forward pass for dropout. Since dropout behaves differently during training and testing, make sure to implement the operation for both modes.  `p` refers to the probability of setting a neuron to zero. We will follow the Caffe convention where we multiply the outputs by `1/(1-p)` during training. "
   ]
  },
  {
   "cell_type": "markdown",
   "metadata": {},
   "source": [
    "## Backward\n",
    "In the file `layers.py`, implement the backward pass for dropout. After doing so, restart jupyter notebook and run the following cell to numerically gradient-check your implementation."
   ]
  },
  {
   "cell_type": "code",
   "execution_count": 5,
   "metadata": {},
   "outputs": [
    {
     "name": "stdout",
     "output_type": "stream",
     "text": [
      "<1e-8 will be fine\n",
      "Gradients to inputs: 5.547986561738342e-12\n"
     ]
    }
   ],
   "source": [
    "from layers import Dropout\n",
    "import numpy as np\n",
    "from utils.check_grads import check_grads_layer\n",
    "\n",
    "ratio = 0.1\n",
    "height = 10\n",
    "width = 20\n",
    "channel = 10\n",
    "np.random.seed(1234)\n",
    "inputs = np.random.uniform(size=(batch, channel, height, width))\n",
    "in_grads = np.random.uniform(size=(batch, channel, height, width))\n",
    "dropout = Dropout(ratio, seed=1234)\n",
    "dropout.set_mode(True)\n",
    "check_grads_layer(dropout, inputs, in_grads)"
   ]
  },
  {
   "cell_type": "markdown",
   "metadata": {},
   "source": [
    "# Pooling Layer\n",
    "In the file `layers.py`, the class `Pooling` will be initialized with `pool_params`, and `name`, shown as below:\n",
    "```python\n",
    "def __init__(self, pool_params, name='pooling'):\n",
    "        super(Pooling, self).__init__(name=name)\n",
    "        self.pool_type = pool_params['pool_type']\n",
    "        self.pool_height = pool_params['pool_height']\n",
    "        self.pool_width = pool_params['pool_width']\n",
    "        self.stride = pool_params['stride']\n",
    "        self.pad = pool_params['pad']\n",
    "```\n",
    "\n",
    "`pool_params` is a dictionary, containing these parameters:\n",
    "\n",
    "- 'pool_type': The type of pooling, 'max' or 'avg'\n",
    "- 'pool_h': The height of pooling kernel.\n",
    "- 'pool_w': The width of pooling kernel.\n",
    "- 'stride': The number of pixels between adjacent receptive fields in the horizontal and vertical directions.\n",
    "- 'pad': The number of pixels that will be used to zero-pad the input in each x-y direction. **Here, `pad=2` means a 2-pixel border of padding with zeros**."
   ]
  },
  {
   "cell_type": "markdown",
   "metadata": {},
   "source": [
    "## Forward\n",
    "Implement the forward pass for the pooling operation in the function `forward` of class `Pooling` in the file `layers.py`.\n",
    "\n",
    "You can test your implementation by restarting jupyter notebook kernel and running the following:"
   ]
  },
  {
   "cell_type": "code",
   "execution_count": 6,
   "metadata": {},
   "outputs": [
    {
     "name": "stdout",
     "output_type": "stream",
     "text": [
      "Relative error (<1e-6 will be fine):  7.932557429038323e-09\n"
     ]
    }
   ],
   "source": [
    "import numpy as np\n",
    "from layers import Pooling\n",
    "from utils.tools import rel_error\n",
    "\n",
    "import keras\n",
    "from keras import layers\n",
    "from keras import models\n",
    "from keras import optimizers\n",
    "from keras import backend as K\n",
    "\n",
    "import warnings\n",
    "warnings.filterwarnings('ignore')\n",
    "\n",
    "inputs = np.random.uniform(size=(10, 3, 30, 30))\n",
    "params = { 'pool_type': 'max',\n",
    "           'pool_height': 5,\n",
    "           'pool_width': 5,\n",
    "           'pad': 0,\n",
    "           'stride': 2,\n",
    "}\n",
    "layer = Pooling(params)\n",
    "out = layer.forward(inputs)\n",
    "\n",
    "keras_model = models.Sequential()\n",
    "keras_layer = layers.MaxPooling2D(pool_size=(params['pool_height'], params['pool_width']),\n",
    "                                 strides=params['stride'],\n",
    "                                 padding='valid',\n",
    "                                 data_format='channels_first',\n",
    "                                 input_shape=inputs.shape[1:])\n",
    "keras_model.add(keras_layer)\n",
    "sgd = optimizers.SGD(lr=0.01)\n",
    "keras_model.compile(loss='mean_squared_error', optimizer='sgd')\n",
    "keras_out = keras_model.predict(inputs, batch_size=inputs.shape[0])\n",
    "print('Relative error (<1e-6 will be fine): ', rel_error(out, keras_out))"
   ]
  },
  {
   "cell_type": "markdown",
   "metadata": {},
   "source": [
    "## Backward\n",
    "Implement the backward pass for the max-pooling operation in the function `backward` of class `Pooling` in the file `layers.py`.\n",
    "\n",
    "Please make sure you have implemented both ’max’ and ’avg’ pooing in your codes. And then test the gradients by yourself."
   ]
  },
  {
   "cell_type": "markdown",
   "metadata": {},
   "source": [
    "# FC Layer\n",
    "\n",
    "FC layer (short for fully connected layer) is also called linear layer or dense layer.\n",
    "\n",
    "In the file `layers.py`, the class `FCLayer` will be initialized with `in_features`, `out_features`, and `name`, shown as below:\n",
    "```python\n",
    "def __init__(self, in_features, out_features, name='fclayer', initializer=Guassian()):\n",
    "        super(FCLayer, self).__init__(name=name)\n",
    "        self.trainable = True\n",
    "        self.weights = initializer.initialize((in_features, out_features))\n",
    "        self.bias = initializer.initialize(out_features)\n",
    "\n",
    "        self.w_grad = np.zeros(self.weights.shape)\n",
    "        self.b_grad = np.zeros(self.bias.shape)\n",
    "```\n",
    "\n",
    "- `in_features`: The number of inputs features\n",
    "- `out_features`: The numbet of required outputs features"
   ]
  },
  {
   "cell_type": "markdown",
   "metadata": {},
   "source": [
    "## Forward\n",
    "Implement the forward pass for the pooling operation in the function `forward` of class `FCLayer` in the file `layers.py`.\n",
    "\n",
    "You can test your implementation by restarting jupyter notebook kernel and running the following:"
   ]
  },
  {
   "cell_type": "code",
   "execution_count": 7,
   "metadata": {},
   "outputs": [
    {
     "name": "stdout",
     "output_type": "stream",
     "text": [
      "Relative error (<1e-6 will be fine):  1.9788057637545288e-07\n"
     ]
    }
   ],
   "source": [
    "import numpy as np\n",
    "from layers import FCLayer\n",
    "from utils.tools import rel_error\n",
    "\n",
    "import keras\n",
    "from keras import layers\n",
    "from keras import models\n",
    "from keras import optimizers\n",
    "from keras import backend as K\n",
    "\n",
    "import warnings\n",
    "warnings.filterwarnings('ignore')\n",
    "\n",
    "inputs = np.random.uniform(size=(10, 20))\n",
    "\n",
    "layer = FCLayer(in_features=inputs.shape[1], out_features=100)\n",
    "out = layer.forward(inputs)\n",
    "\n",
    "keras_model = models.Sequential()\n",
    "keras_layer = layers.Dense(100, input_shape=inputs.shape[1:], use_bias=True, kernel_initializer='random_normal', bias_initializer='zeros')\n",
    "# print (len(keras_layer.get_weights()))\n",
    "keras_model.add(keras_layer)\n",
    "sgd = optimizers.SGD(lr=0.01)\n",
    "keras_model.compile(loss='mean_squared_error', optimizer='sgd')\n",
    "keras_layer.set_weights([layer.weights, layer.bias])\n",
    "keras_out = keras_model.predict(inputs, batch_size=inputs.shape[0])\n",
    "print('Relative error (<1e-6 will be fine): ', rel_error(out, keras_out))"
   ]
  },
  {
   "cell_type": "markdown",
   "metadata": {},
   "source": [
    "## Backward\n",
    "Implement the backward pass for the max-pooling operation in the function `backward` of class `FCLayer` in the file `layers.py`. Please test the gradients by yourself."
   ]
  },
  {
   "cell_type": "markdown",
   "metadata": {},
   "source": [
    "# SoftmaxCrossEntropy Loss\n",
    "We write Softmax and CrossEntropy together because it can avoid some numeric overflow problem.In the file `loss.py`, the class `SoftmaxCrossEntropy` will be initialized with `num_class`,  shown as below:\n",
    "```python\n",
    "def __init__(self, num_class):\n",
    "        super(SoftmaxCrossEntropy, self).__init__()\n",
    "        self.num_class = num_class\n",
    "```\n",
    "\n",
    "`num_class`: The number of category"
   ]
  },
  {
   "cell_type": "markdown",
   "metadata": {},
   "source": [
    "## Forward\n",
    "Implement the forward pass for the pooling operation in the function `forward` of class `FCLayer` in the file `layers.py`.\n",
    "\n",
    "You can test your implementation by restarting jupyter notebook kernel and running the following:"
   ]
  },
  {
   "cell_type": "code",
   "execution_count": 8,
   "metadata": {},
   "outputs": [
    {
     "name": "stdout",
     "output_type": "stream",
     "text": [
      "Relative error (<1e-6 will be fine):  0.0\n"
     ]
    }
   ],
   "source": [
    "import numpy as np\n",
    "from loss import SoftmaxCrossEntropy\n",
    "from utils.tools import rel_error\n",
    "\n",
    "import keras\n",
    "from keras import layers\n",
    "from keras import models\n",
    "from keras import optimizers\n",
    "from keras import backend as K\n",
    "\n",
    "import warnings\n",
    "warnings.filterwarnings('ignore')\n",
    "\n",
    "batch = 10\n",
    "num_class = 10\n",
    "inputs = np.random.uniform(size=(batch, num_class))\n",
    "targets = np.random.randint(num_class, size=batch)\n",
    "\n",
    "loss = SoftmaxCrossEntropy(num_class)\n",
    "out, _ = loss.forward(inputs, targets)\n",
    "\n",
    "keras_inputs = K.softmax(inputs)\n",
    "keras_targets = np.zeros(inputs.shape, dtype='int')\n",
    "for i in range(batch):\n",
    "        keras_targets[i, targets[i]] = 1\n",
    "keras_out = K.mean(K.categorical_crossentropy(keras_targets, keras_inputs, from_logits=False))\n",
    "print('Relative error (<1e-6 will be fine): ', rel_error(out, K.eval(keras_out)))"
   ]
  },
  {
   "cell_type": "markdown",
   "metadata": {},
   "source": [
    "## Backward\n",
    "In the file `loss.py`, implement the backward pass for `SodtmaxCrossEntropy`. Please test the gradients by yourself."
   ]
  },
  {
   "cell_type": "markdown",
   "metadata": {},
   "source": [
    "# Optimizer\n",
    "In the file `optimizers.py`, there are 4 types of optimizer (`SGD`, `Adam`, `RMSprop` and `Adagrad`). You only need to implement the `update` function of `SGD`(mini-batch SGD with momentum) and `Adam`. These two types of optimizers are initialized like this:\n",
    "\n",
    "```python\n",
    "class SGD(Optimizer):\n",
    "    def __init__(self, lr=0.01, momentum=0, decay=0, sheduler_func = None):\n",
    "        super(SGD, self).__init__(lr)\n",
    "        self.momentum = momentum\n",
    "        self.moments = None\n",
    "        self.decay = decay\n",
    "        self.sheduler_func = sheduler_func\n",
    "        \n",
    "class Adam(Optimizer):\n",
    "    def __init__(self, lr=0.001, beta_1=0.9, beta_2=0.999, epsilon=None, decay=0, sheduler_func=None):\n",
    "        super(Adam, self).__init__(lr)\n",
    "        self.beta_1 = beta_1\n",
    "        self.beta_2 = beta_2\n",
    "        self.epsilon = epsilon\n",
    "        self.decay = decay\n",
    "        if not self.epsilon:\n",
    "            self.epsilon = 1e-8\n",
    "        self.moments = None\n",
    "        self.accumulators = None\n",
    "        self.sheduler_func = sheduler_func\n",
    "```\n",
    "\n",
    "For Both optimizers:\n",
    "- `lr`: The initial learning rate.\n",
    "- `decay`: The learning rate decay ratio\n",
    "- `sheduler_func`: Function to change learning rate with respect to iterations\n",
    "\n",
    "For `SGD`:\n",
    "- `momentum`: The ratio of moments\n",
    "\n",
    "\n",
    "For `Adam`:\n",
    "More details can be seen in reference.\n",
    "\n",
    "**For you reference:**\n",
    "http://cs231n.github.io/neural-networks-3/#update"
   ]
  },
  {
   "cell_type": "markdown",
   "metadata": {},
   "source": [
    "# Train the net on full MNIST data\n",
    "By training the `MNISTNet` for one epoch, you should achieve about 90% on the validation and test set. You may have to wait about 5 minutes for training to be completed."
   ]
  },
  {
   "cell_type": "code",
   "execution_count": 10,
   "metadata": {},
   "outputs": [
    {
     "name": "stdout",
     "output_type": "stream",
     "text": [
      "Number of training images:  48000\n",
      "Number of validation images:  12000\n",
      "Number of testing images:  10000\n",
      "\n",
      "Four examples of training images:\n"
     ]
    },
    {
     "data": {
      "text/plain": [
       "<matplotlib.image.AxesImage at 0x7fdd279f2710>"
      ]
     },
     "execution_count": 10,
     "metadata": {},
     "output_type": "execute_result"
    },
    {
     "data": {
      "image/png": "[encoded data removed]",
      "text/plain": [
       "<matplotlib.figure.Figure at 0x7fdd5d4863c8>"
      ]
     },
     "metadata": {},
     "output_type": "display_data"
    }
   ],
   "source": [
    "%matplotlib inline\n",
    "import matplotlib.pyplot as plt\n",
    "from applications import *\n",
    "from loss import SoftmaxCrossEntropy, L2\n",
    "from optimizers import Adam\n",
    "from utils.datsets import MNIST\n",
    "import numpy as np\n",
    "from utils.helpers import *\n",
    "\n",
    "mnist = MNIST()\n",
    "mnist.load()\n",
    "idx = np.random.randint(mnist.num_train, size=4)\n",
    "augment(mnist)\n",
    "print('\\nFour examples of training images:')\n",
    "img = mnist.x_train[idx][:,0,:,:]\n",
    "\n",
    "plt.figure(1, figsize=(18, 18))\n",
    "plt.subplot(1, 4, 1)\n",
    "plt.imshow(img[0])\n",
    "plt.subplot(1, 4, 2)\n",
    "plt.imshow(img[1])\n",
    "plt.subplot(1, 4, 3)\n",
    "plt.imshow(img[2])\n",
    "plt.subplot(1, 4, 4)\n",
    "plt.imshow(img[3])"
   ]
  },
  {
   "cell_type": "code",
   "execution_count": 11,
   "metadata": {},
   "outputs": [
    {
     "data": {
      "text/plain": [
       "(144000, 1, 28, 28)"
      ]
     },
     "execution_count": 11,
     "metadata": {},
     "output_type": "execute_result"
    }
   ],
   "source": [
    "mnist.x_train.shape"
   ]
  },
  {
   "cell_type": "code",
   "execution_count": 14,
   "metadata": {},
   "outputs": [
    {
     "name": "stdout",
     "output_type": "stream",
     "text": [
      "7\n"
     ]
    },
    {
     "data": {
      "image/png": "[encoded data removed]",
      "text/plain": [
       "<matplotlib.figure.Figure at 0x7fdce7e88550>"
      ]
     },
     "metadata": {},
     "output_type": "display_data"
    }
   ],
   "source": [
    "plt.figure(1, figsize=(18, 18))\n",
    "i=13123\n",
    "plt.subplot(1, 4, 2)\n",
    "plt.imshow(mnist.x_train[i,0,:,:])\n",
    "print(mnist.y_train[i])\n",
    "# plt.subplot(1, 4, 4)\n",
    "# plt.imshow(img[3])"
   ]
  },
  {
   "cell_type": "code",
   "execution_count": null,
   "metadata": {},
   "outputs": [
    {
     "name": "stdout",
     "output_type": "stream",
     "text": [
      "BESTNET\n",
      "Epoch 0: \n"
     ]
    }
   ],
   "source": [
    "model = MNISTNet1()\n",
    "loss = SoftmaxCrossEntropy(num_class=10)\n",
    "\n",
    "# define your learning rate sheduler\n",
    "def func(lr, iteration):\n",
    "    if iteration % 1000 ==0:\n",
    "        return lr*0.5\n",
    "    else:\n",
    "        return lr\n",
    "\n",
    "adam = Adam(lr=0.01, decay=0,  sheduler_func = func)\n",
    "l2 = L2(w=0.001) # L2 regularization with lambda=0.001\n",
    "model.compile(optimizer=adam, loss=loss, regularization=l2)\n",
    "train_results, val_results, test_results = model.train(\n",
    "    mnist, \n",
    "    train_batch=64, val_batch=1000, test_batch=1000, \n",
    "    epochs=2, \n",
    "    val_intervals=100, test_intervals=300, print_intervals=100)"
   ]
  },
  {
   "cell_type": "code",
   "execution_count": null,
   "metadata": {},
   "outputs": [],
   "source": [
    "plt.figure(2, figsize=(18, 8))\n",
    "plt.subplot(2, 3, 1)\n",
    "plt.title('Training loss')\n",
    "plt.plot(train_results[:,0], train_results[:,1])\n",
    "plt.subplot(2, 3, 4)\n",
    "plt.title('Training accuracy')\n",
    "plt.plot(train_results[:,0], train_results[:,2])\n",
    "plt.subplot(2, 3, 2)\n",
    "plt.title('Validation loss')\n",
    "plt.plot(val_results[:,0], val_results[:,1])\n",
    "plt.subplot(2, 3, 5)\n",
    "plt.title('Validation accuracy')\n",
    "plt.plot(val_results[:,0], val_results[:,2])\n",
    "plt.subplot(2, 3, 3)\n",
    "plt.title('Testing loss')\n",
    "plt.plot(test_results[:,0], test_results[:, 1])\n",
    "plt.subplot(2, 3, 6)\n",
    "plt.title('Testing accuracy')\n",
    "plt.plot(test_results[:, 0], test_results[:,2])"
   ]
  },
  {
   "cell_type": "markdown",
   "metadata": {},
   "source": [
    "## Change of learning rate\n",
    "If we change the initial learning rate from 0.001 to 0.1, the training process becomes unstable and the loss is out of control. Thus, you need to be careful when setting the initial learning rate."
   ]
  },
  {
   "cell_type": "code",
   "execution_count": 10,
   "metadata": {},
   "outputs": [
    {
     "name": "stdout",
     "output_type": "stream",
     "text": [
      "Epoch 0: \n",
      "Test accuracy=0.09820, loss=2.30259\n",
      "Validation accuracy: 0.09933, loss: 2.30259\n",
      "Iteration 0:\taccuracy=0.03333, loss=2.30259, regularization loss= 0.00520545506372957\n",
      "Validation accuracy: 0.44117, loss: 1.45460\n",
      "Iteration 100:\taccuracy=0.53333, loss=1.45495, regularization loss= 0.08752150147507047\n",
      "Validation accuracy: 0.71942, loss: 0.91726\n",
      "Iteration 200:\taccuracy=0.56667, loss=1.76639, regularization loss= 0.18765073612855335\n",
      "Test accuracy=0.81660, loss=0.53832\n",
      "Validation accuracy: 0.82792, loss: 0.51360\n",
      "Iteration 300:\taccuracy=0.90000, loss=0.39229, regularization loss= 0.17864027089700724\n",
      "Validation accuracy: 0.83583, loss: 0.59713\n",
      "Iteration 400:\taccuracy=0.86667, loss=0.41873, regularization loss= 0.17987872894554474\n",
      "Validation accuracy: 0.70317, loss: 1.20196\n",
      "Iteration 500:\taccuracy=0.63333, loss=1.36451, regularization loss= 0.17645583954616623\n",
      "Test accuracy=0.87960, loss=0.41050\n",
      "Validation accuracy: 0.88175, loss: 0.40615\n",
      "Iteration 600:\taccuracy=0.83333, loss=0.49651, regularization loss= 0.16562664521309917\n",
      "Validation accuracy: 0.87067, loss: 0.48089\n",
      "Iteration 700:\taccuracy=0.80000, loss=1.57661, regularization loss= 0.15769914182477082\n",
      "Validation accuracy: 0.90167, loss: 0.33412\n",
      "Iteration 800:\taccuracy=0.86667, loss=0.45793, regularization loss= 0.16000910634030024\n",
      "Test accuracy=0.81160, loss=0.66589\n",
      "Validation accuracy: 0.81917, loss: 0.63385\n",
      "Iteration 900:\taccuracy=0.86667, loss=0.40807, regularization loss= 0.14243313354775805\n",
      "Validation accuracy: 0.90992, loss: 0.29001\n",
      "Iteration 1000:\taccuracy=0.80000, loss=0.65342, regularization loss= 0.13790030875765996\n",
      "Validation accuracy: 0.92050, loss: 0.25061\n",
      "Iteration 1100:\taccuracy=0.83333, loss=0.52617, regularization loss= 0.1096034721049119\n",
      "Test accuracy=0.91920, loss=0.26430\n",
      "Validation accuracy: 0.91992, loss: 0.27511\n",
      "Iteration 1200:\taccuracy=0.80000, loss=0.73641, regularization loss= 0.10376651102532178\n",
      "Validation accuracy: 0.94308, loss: 0.18982\n",
      "Iteration 1300:\taccuracy=0.93333, loss=0.21114, regularization loss= 0.09298543657595684\n",
      "Validation accuracy: 0.94675, loss: 0.17043\n",
      "Iteration 1400:\taccuracy=0.93333, loss=0.49069, regularization loss= 0.08933335051198583\n",
      "Test accuracy=0.94540, loss=0.18614\n",
      "Validation accuracy: 0.94025, loss: 0.19476\n",
      "Iteration 1500:\taccuracy=0.93333, loss=0.11933, regularization loss= 0.08556868177822265\n",
      "Epoch 1: \n",
      "Test accuracy=0.92790, loss=0.24367\n",
      "Validation accuracy: 0.92608, loss: 0.23817\n",
      "Iteration 0:\taccuracy=1.00000, loss=0.03536, regularization loss= 0.09135827669888771\n",
      "Validation accuracy: 0.93467, loss: 0.20147\n",
      "Iteration 100:\taccuracy=1.00000, loss=0.00869, regularization loss= 0.0947095989031581\n",
      "Validation accuracy: 0.91808, loss: 0.26161\n",
      "Iteration 200:\taccuracy=0.96667, loss=0.11472, regularization loss= 0.09781144970646673\n",
      "Test accuracy=0.93650, loss=0.20276\n",
      "Validation accuracy: 0.93400, loss: 0.21383\n",
      "Iteration 300:\taccuracy=0.86667, loss=0.31719, regularization loss= 0.10161784471996338\n",
      "Validation accuracy: 0.93042, loss: 0.24273\n",
      "Iteration 400:\taccuracy=0.93333, loss=0.33645, regularization loss= 0.10196131141735254\n",
      "Validation accuracy: 0.95608, loss: 0.14465\n",
      "Iteration 500:\taccuracy=0.93333, loss=0.11400, regularization loss= 0.09622003966119004\n",
      "Test accuracy=0.96140, loss=0.12865\n",
      "Validation accuracy: 0.95858, loss: 0.13157\n",
      "Iteration 600:\taccuracy=0.93333, loss=0.16676, regularization loss= 0.09508023074825475\n",
      "Validation accuracy: 0.94358, loss: 0.19118\n",
      "Iteration 700:\taccuracy=0.93333, loss=0.20654, regularization loss= 0.09277604718738494\n",
      "Validation accuracy: 0.96092, loss: 0.12708\n",
      "Iteration 800:\taccuracy=0.93333, loss=0.07690, regularization loss= 0.09254975272701314\n",
      "Test accuracy=0.95830, loss=0.13246\n",
      "Validation accuracy: 0.96000, loss: 0.13305\n",
      "Iteration 900:\taccuracy=1.00000, loss=0.08032, regularization loss= 0.0919272031150221\n",
      "Validation accuracy: 0.96475, loss: 0.11773\n",
      "Iteration 1000:\taccuracy=1.00000, loss=0.09101, regularization loss= 0.09262899270689484\n",
      "Validation accuracy: 0.95433, loss: 0.14535\n",
      "Iteration 1100:\taccuracy=0.86667, loss=0.38503, regularization loss= 0.09678575009119106\n",
      "Test accuracy=0.96350, loss=0.11903\n",
      "Validation accuracy: 0.96417, loss: 0.12066\n",
      "Iteration 1200:\taccuracy=1.00000, loss=0.02540, regularization loss= 0.09881750447902309\n"
     ]
    },
    {
     "ename": "KeyboardInterrupt",
     "evalue": "",
     "output_type": "error",
     "traceback": [
      "\u001b[0;31m---------------------------------------------------------------------------\u001b[0m",
      "\u001b[0;31mKeyboardInterrupt\u001b[0m                         Traceback (most recent call last)",
      "\u001b[0;32m<ipython-input-10-53e1db4c53d2>\u001b[0m in \u001b[0;36m<module>\u001b[0;34m()\u001b[0m\n\u001b[1;32m     16\u001b[0m     \u001b[0mtrain_batch\u001b[0m\u001b[0;34m=\u001b[0m\u001b[0;36m30\u001b[0m\u001b[0;34m,\u001b[0m \u001b[0mval_batch\u001b[0m\u001b[0;34m=\u001b[0m\u001b[0;36m1000\u001b[0m\u001b[0;34m,\u001b[0m \u001b[0mtest_batch\u001b[0m\u001b[0;34m=\u001b[0m\u001b[0;36m1000\u001b[0m\u001b[0;34m,\u001b[0m\u001b[0;34m\u001b[0m\u001b[0m\n\u001b[1;32m     17\u001b[0m     \u001b[0mepochs\u001b[0m\u001b[0;34m=\u001b[0m\u001b[0;36m2\u001b[0m\u001b[0;34m,\u001b[0m\u001b[0;34m\u001b[0m\u001b[0m\n\u001b[0;32m---> 18\u001b[0;31m     val_intervals=100, test_intervals=300, print_intervals=100)\n\u001b[0m",
      "\u001b[0;32m/home/lth08091998/Downloads/CS5242/Assignment 1_2/codes/models.py\u001b[0m in \u001b[0;36mtrain\u001b[0;34m(self, dataset, train_batch, val_batch, test_batch, epochs, val_intervals, test_intervals, print_intervals)\u001b[0m\n\u001b[1;32m     94\u001b[0m \u001b[0;34m\u001b[0m\u001b[0m\n\u001b[1;32m     95\u001b[0m                 \u001b[0;32mif\u001b[0m \u001b[0miteration\u001b[0m \u001b[0;34m%\u001b[0m \u001b[0mval_intervals\u001b[0m \u001b[0;34m==\u001b[0m \u001b[0;36m0\u001b[0m\u001b[0;34m:\u001b[0m\u001b[0;34m\u001b[0m\u001b[0m\n\u001b[0;32m---> 96\u001b[0;31m                     \u001b[0mval_loss\u001b[0m\u001b[0;34m,\u001b[0m \u001b[0mval_acc\u001b[0m \u001b[0;34m=\u001b[0m \u001b[0mself\u001b[0m\u001b[0;34m.\u001b[0m\u001b[0mval\u001b[0m\u001b[0;34m(\u001b[0m\u001b[0mdataset\u001b[0m\u001b[0;34m,\u001b[0m \u001b[0mval_batch\u001b[0m\u001b[0;34m)\u001b[0m\u001b[0;34m\u001b[0m\u001b[0m\n\u001b[0m\u001b[1;32m     97\u001b[0m                     \u001b[0mval_results\u001b[0m\u001b[0;34m.\u001b[0m\u001b[0mappend\u001b[0m\u001b[0;34m(\u001b[0m\u001b[0;34m[\u001b[0m\u001b[0mtotal_iteration\u001b[0m\u001b[0;34m,\u001b[0m \u001b[0mval_loss\u001b[0m\u001b[0;34m,\u001b[0m \u001b[0mval_acc\u001b[0m\u001b[0;34m]\u001b[0m\u001b[0;34m)\u001b[0m\u001b[0;34m\u001b[0m\u001b[0m\n\u001b[1;32m     98\u001b[0m \u001b[0;34m\u001b[0m\u001b[0m\n",
      "\u001b[0;32m/home/lth08091998/Downloads/CS5242/Assignment 1_2/codes/models.py\u001b[0m in \u001b[0;36mval\u001b[0;34m(self, dataset, val_batch)\u001b[0m\n\u001b[1;32m    161\u001b[0m             \u001b[0;32mwhile\u001b[0m \u001b[0;32mTrue\u001b[0m\u001b[0;34m:\u001b[0m\u001b[0;34m\u001b[0m\u001b[0m\n\u001b[1;32m    162\u001b[0m                 \u001b[0mx\u001b[0m\u001b[0;34m,\u001b[0m \u001b[0my\u001b[0m \u001b[0;34m=\u001b[0m \u001b[0mnext\u001b[0m\u001b[0;34m(\u001b[0m\u001b[0mval_loader\u001b[0m\u001b[0;34m)\u001b[0m\u001b[0;34m\u001b[0m\u001b[0m\n\u001b[0;32m--> 163\u001b[0;31m                 \u001b[0mloss\u001b[0m\u001b[0;34m,\u001b[0m \u001b[0mprobs\u001b[0m \u001b[0;34m=\u001b[0m \u001b[0mself\u001b[0m\u001b[0;34m.\u001b[0m\u001b[0mforward\u001b[0m\u001b[0;34m(\u001b[0m\u001b[0mx\u001b[0m\u001b[0;34m,\u001b[0m \u001b[0my\u001b[0m\u001b[0;34m)\u001b[0m\u001b[0;34m\u001b[0m\u001b[0m\n\u001b[0m\u001b[1;32m    164\u001b[0m                 \u001b[0mnum_accurate\u001b[0m \u001b[0;34m+=\u001b[0m \u001b[0mnp\u001b[0m\u001b[0;34m.\u001b[0m\u001b[0msum\u001b[0m\u001b[0;34m(\u001b[0m\u001b[0mnp\u001b[0m\u001b[0;34m.\u001b[0m\u001b[0margmax\u001b[0m\u001b[0;34m(\u001b[0m\u001b[0mprobs\u001b[0m\u001b[0;34m,\u001b[0m \u001b[0maxis\u001b[0m\u001b[0;34m=\u001b[0m\u001b[0;34m-\u001b[0m\u001b[0;36m1\u001b[0m\u001b[0;34m)\u001b[0m\u001b[0;34m==\u001b[0m\u001b[0my\u001b[0m\u001b[0;34m)\u001b[0m\u001b[0;34m\u001b[0m\u001b[0m\n\u001b[1;32m    165\u001b[0m                 \u001b[0msum_loss\u001b[0m \u001b[0;34m+=\u001b[0m \u001b[0mloss\u001b[0m\u001b[0;34m\u001b[0m\u001b[0m\n",
      "\u001b[0;32m/home/lth08091998/Downloads/CS5242/Assignment 1_2/codes/models.py\u001b[0m in \u001b[0;36mforward\u001b[0;34m(self, inputs, targets)\u001b[0m\n\u001b[1;32m     28\u001b[0m                 \u001b[0mlayer_inputs\u001b[0m\u001b[0;34m,\u001b[0m \u001b[0mprobs\u001b[0m \u001b[0;34m=\u001b[0m \u001b[0mlayer\u001b[0m\u001b[0;34m.\u001b[0m\u001b[0mforward\u001b[0m\u001b[0;34m(\u001b[0m\u001b[0mlayer_inputs\u001b[0m\u001b[0;34m,\u001b[0m \u001b[0mtargets\u001b[0m\u001b[0;34m)\u001b[0m\u001b[0;34m\u001b[0m\u001b[0m\n\u001b[1;32m     29\u001b[0m             \u001b[0;32melse\u001b[0m\u001b[0;34m:\u001b[0m\u001b[0;34m\u001b[0m\u001b[0m\n\u001b[0;32m---> 30\u001b[0;31m                 \u001b[0mlayer_inputs\u001b[0m \u001b[0;34m=\u001b[0m \u001b[0mlayer\u001b[0m\u001b[0;34m.\u001b[0m\u001b[0mforward\u001b[0m\u001b[0;34m(\u001b[0m\u001b[0mlayer_inputs\u001b[0m\u001b[0;34m)\u001b[0m\u001b[0;34m\u001b[0m\u001b[0m\n\u001b[0m\u001b[1;32m     31\u001b[0m         \u001b[0moutputs\u001b[0m \u001b[0;34m=\u001b[0m \u001b[0mlayer_inputs\u001b[0m\u001b[0;34m\u001b[0m\u001b[0m\n\u001b[1;32m     32\u001b[0m         \u001b[0;32mreturn\u001b[0m \u001b[0moutputs\u001b[0m\u001b[0;34m,\u001b[0m \u001b[0mprobs\u001b[0m\u001b[0;34m\u001b[0m\u001b[0m\n",
      "\u001b[0;32m/home/lth08091998/Downloads/CS5242/Assignment 1_2/codes/layers.py\u001b[0m in \u001b[0;36mforward\u001b[0;34m(self, inputs)\u001b[0m\n\u001b[1;32m    364\u001b[0m                                     \u001b[0moutputs\u001b[0m\u001b[0;34m[\u001b[0m\u001b[0md\u001b[0m\u001b[0;34m,\u001b[0m \u001b[0mc\u001b[0m\u001b[0;34m,\u001b[0m \u001b[0mi\u001b[0m\u001b[0;34m,\u001b[0m \u001b[0mj\u001b[0m\u001b[0;34m]\u001b[0m \u001b[0;34m+=\u001b[0m \u001b[0minputs\u001b[0m\u001b[0;34m[\u001b[0m\u001b[0md\u001b[0m\u001b[0;34m,\u001b[0m \u001b[0mc\u001b[0m\u001b[0;34m,\u001b[0m \u001b[0mii\u001b[0m\u001b[0;34m,\u001b[0m \u001b[0mjj\u001b[0m\u001b[0;34m]\u001b[0m \u001b[0;34m/\u001b[0m \u001b[0;34m(\u001b[0m\u001b[0mself\u001b[0m\u001b[0;34m.\u001b[0m\u001b[0mpool_height\u001b[0m \u001b[0;34m*\u001b[0m \u001b[0mself\u001b[0m\u001b[0;34m.\u001b[0m\u001b[0mpool_width\u001b[0m\u001b[0;34m)\u001b[0m\u001b[0;34m\u001b[0m\u001b[0m\n\u001b[1;32m    365\u001b[0m                                 \u001b[0;32melse\u001b[0m\u001b[0;34m:\u001b[0m\u001b[0;34m\u001b[0m\u001b[0m\n\u001b[0;32m--> 366\u001b[0;31m                                     \u001b[0;32mif\u001b[0m\u001b[0;34m(\u001b[0m\u001b[0moutputs\u001b[0m\u001b[0;34m[\u001b[0m\u001b[0md\u001b[0m\u001b[0;34m,\u001b[0m \u001b[0mc\u001b[0m\u001b[0;34m,\u001b[0m \u001b[0mi\u001b[0m\u001b[0;34m,\u001b[0m \u001b[0mj\u001b[0m\u001b[0;34m]\u001b[0m \u001b[0;34m<\u001b[0m \u001b[0minputs\u001b[0m\u001b[0;34m[\u001b[0m\u001b[0md\u001b[0m\u001b[0;34m,\u001b[0m \u001b[0mc\u001b[0m\u001b[0;34m,\u001b[0m \u001b[0mii\u001b[0m\u001b[0;34m,\u001b[0m \u001b[0mjj\u001b[0m\u001b[0;34m]\u001b[0m\u001b[0;34m)\u001b[0m\u001b[0;34m:\u001b[0m\u001b[0;34m\u001b[0m\u001b[0m\n\u001b[0m\u001b[1;32m    367\u001b[0m                                         \u001b[0moutputs\u001b[0m\u001b[0;34m[\u001b[0m\u001b[0md\u001b[0m\u001b[0;34m,\u001b[0m \u001b[0mc\u001b[0m\u001b[0;34m,\u001b[0m \u001b[0mi\u001b[0m\u001b[0;34m,\u001b[0m \u001b[0mj\u001b[0m\u001b[0;34m]\u001b[0m \u001b[0;34m=\u001b[0m \u001b[0minputs\u001b[0m\u001b[0;34m[\u001b[0m\u001b[0md\u001b[0m\u001b[0;34m,\u001b[0m \u001b[0mc\u001b[0m\u001b[0;34m,\u001b[0m \u001b[0mii\u001b[0m\u001b[0;34m,\u001b[0m \u001b[0mjj\u001b[0m\u001b[0;34m]\u001b[0m\u001b[0;34m\u001b[0m\u001b[0m\n\u001b[1;32m    368\u001b[0m                                         \u001b[0mself\u001b[0m\u001b[0;34m.\u001b[0m\u001b[0mloc\u001b[0m\u001b[0;34m[\u001b[0m\u001b[0md\u001b[0m\u001b[0;34m,\u001b[0m \u001b[0mc\u001b[0m\u001b[0;34m,\u001b[0m \u001b[0mi\u001b[0m\u001b[0;34m,\u001b[0m \u001b[0mj\u001b[0m\u001b[0;34m]\u001b[0m \u001b[0;34m=\u001b[0m \u001b[0;34m(\u001b[0m\u001b[0mii\u001b[0m\u001b[0;34m,\u001b[0m \u001b[0mjj\u001b[0m\u001b[0;34m)\u001b[0m\u001b[0;34m\u001b[0m\u001b[0m\n",
      "\u001b[0;31mKeyboardInterrupt\u001b[0m: "
     ]
    }
   ],
   "source": [
    "model = MNISTNet()\n",
    "loss = SoftmaxCrossEntropy(num_class=10)\n",
    "\n",
    "# define your learning rate sheduler\n",
    "def func(lr, iteration):\n",
    "    if iteration % 1000 ==0:\n",
    "        return lr*0.5\n",
    "    else:\n",
    "        return lr\n",
    "\n",
    "adam = Adam(lr=0.01, decay=0,  sheduler_func = func)\n",
    "l2 = L2(w=0.001) # L2 regularization with lambda=0.001\n",
    "model.compile(optimizer=adam, loss=loss, regularization=l2)\n",
    "train_results, val_results, test_results = model.train(\n",
    "    mnist, \n",
    "    train_batch=30, val_batch=1000, test_batch=1000, \n",
    "    epochs=2, \n",
    "    val_intervals=100, test_intervals=300, print_intervals=100)"
   ]
  },
  {
   "cell_type": "code",
   "execution_count": 11,
   "metadata": {},
   "outputs": [
    {
     "data": {
      "text/plain": [
       "[<matplotlib.lines.Line2D at 0x7f46e13378d0>]"
      ]
     },
     "execution_count": 11,
     "metadata": {},
     "output_type": "execute_result"
    },
    {
     "data": {
      "image/png": "[encoded data removed]",
      "text/plain": [
       "<matplotlib.figure.Figure at 0x7f46def530b8>"
      ]
     },
     "metadata": {},
     "output_type": "display_data"
    }
   ],
   "source": [
    "plt.figure(2, figsize=(18, 8))\n",
    "plt.subplot(2, 3, 1)\n",
    "plt.title('Training loss')\n",
    "plt.plot(train_results[:,0], train_results[:,1])\n",
    "plt.subplot(2, 3, 4)\n",
    "plt.title('Training accuracy')\n",
    "plt.plot(train_results[:,0], train_results[:,2])\n",
    "plt.subplot(2, 3, 2)\n",
    "plt.title('Validation loss')\n",
    "plt.plot(val_results[:,0], val_results[:,1])\n",
    "plt.subplot(2, 3, 5)\n",
    "plt.title('Validation accuracy')\n",
    "plt.plot(val_results[:,0], val_results[:,2])\n",
    "plt.subplot(2, 3, 3)\n",
    "plt.title('Testing loss')\n",
    "plt.plot(test_results[:,0], test_results[:, 1])\n",
    "plt.subplot(2, 3, 6)\n",
    "plt.title('Testing accuracy')\n",
    "plt.plot(test_results[:, 0], test_results[:,2])"
   ]
  },
  {
   "cell_type": "markdown",
   "metadata": {},
   "source": [
    "# Train your best MNISTNet!\n",
    "Tweak the hyperparameters of the above MNISTNet and use what you've learnt to train the best net.\n",
    "\n",
    "Credits will be given based on your test accuracy, your explanations/insights of the training. The network is small, hence the training should finish quickly using your CPU (less than 1 hour). \n",
    "\n",
    "Please report the following:\n",
    "- Training validation and testing loss as well as accuracy over iterations\n",
    "- Architecture and training method (eg. optimization scheme, data augmentation): explain your design choices, what has failed and what has worked and why you think they worked/failed\n",
    "- Try different hyper-parameters, e.g. rate decaying, weight decay, number of layers and total number of epochs. \n",
    "\n",
    "Do NOT use external libraries like Tensorflow, keras and Pytorch in your implementation, i.e. optimizer.py, layer.py and loss.py. Do NOT copy the code from the internet, e.g. github. You should also give credits to any material that you refer to for your implementation."
   ]
  },
  {
   "cell_type": "markdown",
   "metadata": {
    "collapsed": true
   },
   "source": [
    "# Final submission instructions\n",
    "Please submit the following:\n",
    "\n",
    "1) Your code files in a folder `codes`\n",
    "\n",
    "2) A short report (1-2 pages) in pdf titled `report.pdf`, explaining the logic (expressed using mathematical formulation) of your implementation (including the forward and backward function like ReLU) and the findings from training your best net\n",
    "\n",
    "**ASSIGNMENT DEADLINE: 4 MAR 2018 (SUN) 17:00PM**\n",
    "\n",
    "Do not include the `data` folder as it takes up substantial memory. Please zip up the following folders under a folder named with your NUSNET ID: eg. `e0123456g.zip' and submit the zipped folder to IVLE/workbin/assignment 1 submission."
   ]
  },
  {
   "cell_type": "code",
   "execution_count": null,
   "metadata": {
    "collapsed": true
   },
   "outputs": [],
   "source": []
  }
 ],
 "metadata": {
  "kernelspec": {
   "display_name": "Python 3",
   "language": "python",
   "name": "python3"
  },
  "language_info": {
   "codemirror_mode": {
    "name": "ipython",
    "version": 3
   },
   "file_extension": ".py",
   "mimetype": "text/x-python",
   "name": "python",
   "nbconvert_exporter": "python",
   "pygments_lexer": "ipython3",
   "version": "3.4.5"
  },
  "latex_envs": {
   "LaTeX_envs_menu_present": true,
   "autocomplete": true,
   "bibliofile": "biblio.bib",
   "cite_by": "apalike",
   "current_citInitial": 1,
   "eqLabelWithNumbers": true,
   "eqNumInitial": 1,
   "hotkeys": {
    "equation": "Ctrl-E",
    "itemize": "Ctrl-I"
   },
   "labels_anchors": false,
   "latex_user_defs": false,
   "report_style_numbering": false,
   "user_envs_cfg": false
  }
 },
 "nbformat": 4,
 "nbformat_minor": 1
}
