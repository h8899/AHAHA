{
 "cells": [
  {
   "cell_type": "markdown",
   "metadata": {
    "collapsed": true
   },
   "source": [
    "# Homework #2 - Support Vector Machines"
   ]
  },
  {
   "cell_type": "markdown",
   "metadata": {},
   "source": [
    "(This skeleton file is provided for HW#1 only.  You are expected to modify it for use in this and other homeworks for the course.)    "
   ]
  },
  {
   "cell_type": "markdown",
   "metadata": {},
   "source": [
    "This is the README section for A0000000X's submission.\n",
    "(For group submissions [when applicable], simply concatenate the student matric numbers in lexicographical order separated by a '-' (dash); e.g., A0000000X-A0000001Y)"
   ]
  },
  {
   "cell_type": "markdown",
   "metadata": {},
   "source": [
    "### Files included with this submission\n",
    "hw1-1.ipynb\n",
    "\n",
    "problem-1a.txt\n",
    "\n",
    "problem-2d.txt\n"
   ]
  },
  {
   "cell_type": "markdown",
   "metadata": {},
   "source": [
    "\n",
    "## Programming Exercise 1"
   ]
  },
  {
   "cell_type": "code",
   "execution_count": 1,
   "metadata": {
    "collapsed": true
   },
   "outputs": [],
   "source": [
    "from io import StringIO\n",
    "import numpy as np\n",
    "import numpy.random as nr\n",
    "import matplotlib.pyplot as pl\n",
    "from sklearn import svm\n",
    "from sklearn.datasets import load_svmlight_file\n",
    "%matplotlib inline\n",
    "# Plotting with style! \n",
    "import seaborn as sb \n",
    "\n",
    "# Size the plot appropriately for online display\n",
    "pl.rcParams['figure.figsize'] = (12.0, 10.0)"
   ]
  },
  {
   "cell_type": "markdown",
   "metadata": {},
   "source": [
    "Let's fix the random number generator first, in case we need results that are replicable."
   ]
  },
  {
   "cell_type": "code",
   "execution_count": 2,
   "metadata": {
    "collapsed": true
   },
   "outputs": [],
   "source": [
    "nr.seed(3244)"
   ]
  },
  {
   "cell_type": "code",
   "execution_count": null,
   "metadata": {
    "collapsed": true
   },
   "outputs": [],
   "source": []
  },
  {
   "cell_type": "code",
   "execution_count": 3,
   "metadata": {
    "collapsed": true
   },
   "outputs": [],
   "source": [
    "def fetchData(fileName):\n",
    "    f = open(fileName, \"r\")\n",
    "    content = np.loadtxt(StringIO(f.read()))\n",
    "    data = content[:, 1:]\n",
    "    label = content[:, 0]\n",
    "    f.close()\n",
    "    return data, label\n"
   ]
  },
  {
   "cell_type": "code",
   "execution_count": 4,
   "metadata": {
    "collapsed": true
   },
   "outputs": [],
   "source": [
    "# Question 1A\n",
    "def svmTrain(dataTrain, labelTrain, cost, kernel, gamma, degree, coef0):\n",
    "    svm1A = svm.SVC(kernel=kernel, gamma=gamma, degree=degree, C=cost, coef0=coef0)\n",
    "    svm1A.fit(dataTrain, labelTrain)\n",
    "    return svm1A, len(svm1A.support_vectors_)\n",
    "    \n",
    "def svmPredict(data, label, svmModel):\n",
    "    misclassified_points = 0\n",
    "    for i in range(len(data)):\n",
    "        if(label[i] != svmModel.predict(data[i].reshape(1, -1))):\n",
    "            misclassified_points += 1\n",
    "    return 1.0 - misclassified_points / len(data)"
   ]
  },
  {
   "cell_type": "code",
   "execution_count": 5,
   "metadata": {
    "collapsed": true
   },
   "outputs": [],
   "source": [
    "### The output of your program should be written in a file as follows.\n",
    "#   for question 'i', write the output in 'problem-i.txt' file (e.g., 'problem-1a.txt')\n",
    "fo = open('problem-1a.txt', 'w')\n",
    "        \n",
    "dataTrain, labelTrain = fetchData('hw2-1-train.txt')\n",
    "dataTest, labelTest = fetchData('hw2-1-test.txt')\n",
    "cost = 1\n",
    "gamma = 'auto'\n",
    "degree = 3\n",
    "kernel = 'linear'\n",
    "coef0 = 0.0\n",
    "\n",
    "svmModel, totalSV  = svmTrain(dataTrain, labelTrain, cost, kernel, gamma, degree, coef0)\n",
    "\n",
    "# test on the training data\n",
    "trainAccuracy = svmPredict(dataTrain, labelTrain, svmModel)\n",
    "\n",
    "# test on your test data\n",
    "testAccuracy = svmPredict(dataTest, labelTest, svmModel)\n",
    "\n",
    "# report your results in the file\n",
    "fo.write(\"Kernel: \"+ str(kernel)+\"\\n\")\n",
    "fo.write(\"Cost: \"+ str(cost)+ \"\\n\")\n",
    "fo.write(\"Number of Support Vectors: \"+ str(totalSV)+\"\\n\")\n",
    "fo.write(\"Train Accuracy: \"+ str(trainAccuracy)+\"\\n\")\n",
    "fo.write(\"Test Accuracy: \" + str(testAccuracy)+\"\\n\")\n",
    "fo.close()"
   ]
  },
  {
   "cell_type": "code",
   "execution_count": 6,
   "metadata": {},
   "outputs": [
    {
     "name": "stdout",
     "output_type": "stream",
     "text": [
      "Q1a\n",
      "Subset size 50\n",
      "\n",
      " Support vectors counts: 2, test accuracy 0.9716981132075472\n",
      "\n",
      "Subset size 100\n",
      "\n",
      " Support vectors counts: 4, test accuracy 0.9787735849056604\n",
      "\n",
      "Subset size 200\n",
      "\n",
      " Support vectors counts: 4, test accuracy 0.9811320754716981\n",
      "\n",
      "Subset size 800\n",
      "\n",
      " Support vectors counts: 10, test accuracy 0.9787735849056604\n",
      "\n"
     ]
    }
   ],
   "source": [
    "#Q1a\n",
    "print(\"Q1a\")\n",
    "subset = [50, 100, 200, 800]\n",
    "cost = 1.0\n",
    "gamma = 'auto'\n",
    "kernel = 'linear'\n",
    "coef0 = 0.0\n",
    "\n",
    "for i in range(len(subset)):\n",
    "    subDataTrain = dataTrain[:subset[i]]\n",
    "    subLabelTrain = labelTrain[:subset[i]]\n",
    "    svmModel, totalSV = svmTrain(subDataTrain, subLabelTrain, cost, kernel, gamma, degree, coef0)\n",
    "\n",
    "    # test on your test data\n",
    "    testAccuracy = svmPredict(dataTest, labelTest, svmModel)\n",
    "    print(\"Subset size \" + str(subset[i]) + \"\\n\")\n",
    "    print(\" Support vectors counts: \" + str(totalSV) + \", test accuracy \" + str(testAccuracy) + \"\\n\")"
   ]
  },
  {
   "cell_type": "code",
   "execution_count": 7,
   "metadata": {},
   "outputs": [
    {
     "name": "stdout",
     "output_type": "stream",
     "text": [
      "Q1b\n",
      "Cost is: 0.0001, degree: 2\n",
      "\n",
      "  Ein 0.008968609865470878\n",
      "\n",
      "  Eout 0.01650943396226412\n",
      "\n",
      "  Count support vector: 236\n",
      "\n",
      "Cost is: 0.0001, degree: 5\n",
      "\n",
      "  Ein 0.004484304932735439\n",
      "\n",
      "  Eout 0.018867924528301883\n",
      "\n",
      "  Count support vector: 26\n",
      "\n",
      "Cost is: 0.001, degree: 2\n",
      "\n",
      "  Ein 0.004484304932735439\n",
      "\n",
      "  Eout 0.01650943396226412\n",
      "\n",
      "  Count support vector: 76\n",
      "\n",
      "Cost is: 0.001, degree: 5\n",
      "\n",
      "  Ein 0.004484304932735439\n",
      "\n",
      "  Eout 0.021226415094339646\n",
      "\n",
      "  Count support vector: 25\n",
      "\n",
      "Cost is: 0.01, degree: 2\n",
      "\n",
      "  Ein 0.004484304932735439\n",
      "\n",
      "  Eout 0.018867924528301883\n",
      "\n",
      "  Count support vector: 34\n",
      "\n",
      "Cost is: 0.01, degree: 5\n",
      "\n",
      "  Ein 0.0038436899423446302\n",
      "\n",
      "  Eout 0.021226415094339646\n",
      "\n",
      "  Count support vector: 23\n",
      "\n",
      "Cost is: 1, degree: 2\n",
      "\n",
      "  Ein 0.0032030749519538215\n",
      "\n",
      "  Eout 0.018867924528301883\n",
      "\n",
      "  Count support vector: 24\n",
      "\n",
      "Cost is: 1, degree: 5\n",
      "\n",
      "  Ein 0.0032030749519538215\n",
      "\n",
      "  Eout 0.021226415094339646\n",
      "\n",
      "  Count support vector: 21\n",
      "\n",
      "When C = 0.0001, Ein is higher at Q = 5.: FALSE\n",
      "When C = 0.001, the number of support vectors is lower at Q = 5.: TRUE\n",
      "When C = 0.01, Ein is higher at Q = 5.: FALSE\n",
      "When C = 1, Eout is lower at Q = 5.: FALSE\n"
     ]
    }
   ],
   "source": [
    "#Q1B\n",
    "print(\"Q1b\")\n",
    "C = [0.0001, 0.001, 0.01, 1]\n",
    "Q = [2, 5]\n",
    "kernel = \"poly\"\n",
    "gamma = 1.0\n",
    "coef0 = 1.0\n",
    "\n",
    "for i in range(len(C)):\n",
    "    for j in range(len(Q)):\n",
    "        cost = C[i]\n",
    "        degree = Q[j]\n",
    "        svmModel, totalSV = svmTrain(dataTrain, labelTrain, cost, kernel, gamma, degree, coef0)\n",
    "        \n",
    "        # test on the training data\n",
    "        trainAccuracy = svmPredict(dataTrain, labelTrain, svmModel)\n",
    "\n",
    "        # test on your test data\n",
    "        testAccuracy = svmPredict(dataTest, labelTest, svmModel)\n",
    "        \n",
    "        print(\"Cost is: \" + str(cost) + \", degree: \" + str(degree) +\"\\n\")\n",
    "        print(\"  Ein \" + str((1 - trainAccuracy)) + \"\\n\")\n",
    "        print(\"  Eout \"+ str(1 - testAccuracy) + \"\\n\")\n",
    "        print(\"  Count support vector: \" + str(totalSV) + \"\\n\")\n",
    "        \n",
    "print(\"When C = 0.0001, Ein is higher at Q = 5.: FALSE\")\n",
    "print(\"When C = 0.001, the number of support vectors is lower at Q = 5.: TRUE\")\n",
    "print(\"When C = 0.01, Ein is higher at Q = 5.: FALSE\")\n",
    "print(\"When C = 1, Eout is lower at Q = 5.: FALSE\")        "
   ]
  },
  {
   "cell_type": "code",
   "execution_count": 8,
   "metadata": {},
   "outputs": [
    {
     "name": "stdout",
     "output_type": "stream",
     "text": [
      "Cost is: 0.01\n",
      "\n",
      " Ein 0.0038436899423446302\n",
      "\n",
      " Eout 0.02358490566037741\n",
      "\n",
      " Count support vector: 406\n",
      "\n",
      "Cost is: 1\n",
      "\n",
      " Ein 0.004484304932735439\n",
      "\n",
      " Eout 0.021226415094339646\n",
      "\n",
      " Count support vector: 31\n",
      "\n",
      "Cost is: 100\n",
      "\n",
      " Ein 0.0032030749519538215\n",
      "\n",
      " Eout 0.018867924528301883\n",
      "\n",
      " Count support vector: 22\n",
      "\n",
      "Cost is: 10000\n",
      "\n",
      " Ein 0.002562459961563124\n",
      "\n",
      " Eout 0.02358490566037741\n",
      "\n",
      " Count support vector: 19\n",
      "\n",
      "Cost is: 1000000\n",
      "\n",
      " Ein 0.0006406149903908087\n",
      "\n",
      " Eout 0.02358490566037741\n",
      "\n",
      " Count support vector: 17\n",
      "\n",
      "Ein is lowest when cost = 10^6\n",
      "Eout is lowest when cost = 100\n"
     ]
    }
   ],
   "source": [
    "#Q1c\n",
    "\n",
    "C = [0.01, 1, 100, 10000, 1000000]\n",
    "kernel = \"rbf\"\n",
    "degree = 1.0\n",
    "gamma = 1.0\n",
    "coef0 = 0.0\n",
    "\n",
    "for i in range(len(C)):\n",
    "    cost = C[i]\n",
    "    svmModel, totalSV = svmTrain(dataTrain, labelTrain, cost, kernel, gamma, degree, coef0)\n",
    "        \n",
    "    # test on the training data\n",
    "    trainAccuracy = svmPredict(dataTrain, labelTrain, svmModel)\n",
    "\n",
    "    # test on your test data\n",
    "    testAccuracy = svmPredict(dataTest, labelTest, svmModel)\n",
    "        \n",
    "    print(\"Cost is: \" + str(cost) + \"\\n\")\n",
    "    print(\" Ein \" + str((1 - trainAccuracy)) + \"\\n\")\n",
    "    print(\" Eout \"+ str(1 - testAccuracy)+ \"\\n\")\n",
    "    print(\" Count support vector: \" + str(totalSV)+ \"\\n\")\n",
    "    \n",
    "print(\"Ein is lowest when cost = 10^6\")\n",
    "print(\"Eout is lowest when cost = 100\")"
   ]
  },
  {
   "cell_type": "markdown",
   "metadata": {},
   "source": [
    "## PROGRAMMING QUESTION 2\n"
   ]
  },
  {
   "cell_type": "code",
   "execution_count": 9,
   "metadata": {
    "collapsed": true
   },
   "outputs": [],
   "source": [
    "#Question 2D\n",
    "fo2 = open('problem-2d.txt', 'w')\n",
    "\n",
    "dataTrain, labelTrain = load_svmlight_file('hw2-2-train.txt')\n",
    "dataTrain = dataTrain.toarray()\n",
    "\n",
    "dataTest, labelTest = load_svmlight_file('hw2-2-test.txt')\n",
    "dataTest = dataTest.toarray()\n",
    "\n",
    "cost = 1.0\n",
    "gamma = 'auto'\n",
    "degree = 3\n",
    "kernel = 'linear'\n",
    "coef0 = 0.0\n",
    "\n",
    "# train your svm\n",
    "# (n.b., svmTrain, svmPredict are not previously defined;\n",
    "# you will have to supply code to implement them)\n",
    "svmModel, totalSV  = svmTrain(dataTrain, labelTrain, cost, kernel, gamma, degree, coef0)\n",
    "\n",
    "# test on the training data\n",
    "trainAccuracy = svmPredict(dataTrain, labelTrain, svmModel)\n",
    "\n",
    "# test on your test data\n",
    "testAccuracy = svmPredict(dataTest, labelTest, svmModel)\n",
    "\n",
    "# report your results in the file\n",
    "fo2.write(\"Kernel: \"+ str(kernel)+\"\\n\")\n",
    "fo2.write(\"Cost: \"+ str(cost)+ \"\\n\")\n",
    "fo2.write(\"Number of Support Vectors: \"+ str(totalSV)+\"\\n\")\n",
    "fo2.write(\"Train Accuracy: \"+ str(trainAccuracy)+\"\\n\")\n",
    "fo2.write(\"Test Accuracy: \" + str(testAccuracy)+\"\\n\")\n",
    "fo2.close()"
   ]
  },
  {
   "cell_type": "code",
   "execution_count": 10,
   "metadata": {},
   "outputs": [
    {
     "name": "stdout",
     "output_type": "stream",
     "text": [
      "Kernel is: rbf\n",
      "\n",
      "Cost is: 1.0, degree: 3\n",
      "\n",
      "Ein 0.0011666666666666492\n",
      "\n",
      "Eout 0.020000000000000018\n",
      "\n",
      "Count support vector: 2594\n",
      "\n"
     ]
    }
   ],
   "source": [
    "#Question e(RBF)\n",
    "\n",
    "kernel = \"rbf\"\n",
    "gamma = 0.001\n",
    "coef0 = 0.0\n",
    "degree = 3\n",
    "cost = 1.0\n",
    "\n",
    "svmModel, totalSV = svmTrain(dataTrain, labelTrain, cost, kernel, gamma, degree, coef0)\n",
    "        \n",
    "# test on the training data\n",
    "trainAccuracy = svmPredict(dataTrain, labelTrain, svmModel)\n",
    "\n",
    "# test on your test data\n",
    "testAccuracy = svmPredict(dataTest, labelTest, svmModel)\n",
    "\n",
    "print(\"Kernel is: \" + kernel +\"\\n\")        \n",
    "print(\"Cost is: \" + str(cost) + \", degree: \" + str(degree) + \"\\n\")\n",
    "print(\"Ein \" + str((1 - trainAccuracy)) + \"\\n\")\n",
    "print(\"Eout \"+ str(1 - testAccuracy)+ \"\\n\")\n",
    "print(\"Count support vector: \" + str(totalSV)+ \"\\n\")"
   ]
  },
  {
   "cell_type": "code",
   "execution_count": 11,
   "metadata": {},
   "outputs": [
    {
     "name": "stdout",
     "output_type": "stream",
     "text": [
      "Kernel is: poly\n",
      "\n",
      "Cost is: 1.0, degree: 2\n",
      "\n",
      "Ein 0.0\n",
      "\n",
      "Eout 0.020000000000000018\n",
      "\n",
      "Count support vector: 1295\n",
      "\n",
      "CONCLUSION: THE POLY KERNEL GIVES THE LOWEST Ein\n"
     ]
    }
   ],
   "source": [
    "#Question e(poly)\n",
    "\n",
    "kernel = \"poly\"\n",
    "gamma = 1.0\n",
    "degree = 2\n",
    "coef0 = 1.0\n",
    "cost = 1.0\n",
    "\n",
    "svmModel, totalSV = svmTrain(dataTrain, labelTrain, cost, kernel, gamma, degree, coef0)\n",
    "        \n",
    "# test on the training data\n",
    "trainAccuracy = svmPredict(dataTrain, labelTrain, svmModel)\n",
    "\n",
    "# test on your test data\n",
    "testAccuracy = svmPredict(dataTest, labelTest, svmModel)\n",
    "        \n",
    "print(\"Kernel is: \" + kernel+\"\\n\")         \n",
    "print(\"Cost is: \" + str(cost) + \", degree: \" + str(degree)+\"\\n\")\n",
    "print(\"Ein \" + str((1 - trainAccuracy))+\"\\n\")\n",
    "print(\"Eout \"+ str(1 - testAccuracy)+\"\\n\")\n",
    "print(\"Count support vector: \" + str(totalSV)+\"\\n\")\n",
    "\n",
    "print(\"CONCLUSION: THE LINEAR KERNEL GIVES THE LOWEST Ein\")"
   ]
  },
  {
   "cell_type": "markdown",
   "metadata": {},
   "source": [
    "## Essay Questions\n",
    "\n",
    "_You may choose to do the essay questions here in the .ipynb notebook, but you are welcomed to use a word processor instead and write your solutions there instead (and convert it into .pdf format).  If you do that, please ensure to delete this section._"
   ]
  },
  {
   "cell_type": "markdown",
   "metadata": {},
   "source": [
    "QUESTION 1/\n",
    "\n",
    "Notice that $ k^{\\frac{y_{n} + 1}{2}} $ is k if $ y_{n} $ = 1 and is 1 if $ y_{n} $ = -1\n",
    "\n",
    "Minimize $\\frac{1}{2}{w}^{T}{w} + C \\sum_{n=1}^{N}k^{\\frac{y_{n} + 1}{2}}e _{n}$ \n",
    "\t\t\n",
    "With constraint that $y_{n}({w}^{T}{x} + b) >= 1 - e_{n}$ and $e_{n} >= 0$ for n = 1,2,...,N,\n",
    "\n",
    "Now, we need to maximise $ \\mathcal{L}(\\mathbf{a}) = \\sum_{n=1}^{N} a_{n} - \\frac{1}{2}\\sum_{n=1}^{N}\\sum_{m=1}^{N}y_{n}y_{m} a_{n} a_{m}\\mathbf{x}_{n}^{T}\\mathbf{x}_{m}$\n",
    "\n",
    "subject to $0 <= a_{n} <= C k^{\\frac{y_{n} + 1}{2}}$ and $\\sum_{n=1}^{N}a_{n}y_{n} = 0$ "
   ]
  },
  {
   "cell_type": "code",
   "execution_count": 12,
   "metadata": {
    "scrolled": true
   },
   "outputs": [
    {
     "data": {
      "image/png": "[encoded data removed]",
      "text/plain": [
       "<matplotlib.figure.Figure at 0x7f0574f332e8>"
      ]
     },
     "metadata": {},
     "output_type": "display_data"
    }
   ],
   "source": [
    "# QUESTION 2\n",
    "X = np.array([[1, 1], [2, 2],[2, 0],[0, 1], [1, 0], [0, 0]])\n",
    "\n",
    "Y = np.array([1, 1, 1, -1, -1, -1])\n",
    "\n",
    "for i in range(len(Y)):\n",
    "    if Y[i] > 0:\n",
    "        pl.scatter(X[i, 0], X[i, 1], c='r')\n",
    "    else:\n",
    "        pl.scatter(X[i, 0], X[i, 1], c='g')\n",
    "\n",
    "x = np.linspace(-1,2)\n",
    "pl.plot(x,  - x + 1.5, 'k')\n",
    "pl.show()"
   ]
  },
  {
   "cell_type": "markdown",
   "metadata": {},
   "source": [
    "a/ Yes, the dataset is linearly seperable.\n",
    "\n",
    "b/ \n",
    "\n",
    "By inspection, we have: \n",
    "\n",
    "The equation of the maximum margin hyper-plane is: $\\mathbf{x1} + \\mathbf{x2} = 1.5 $, and its corresponding weight vector is $ (1, 1) ^ T $\n",
    "   \n",
    "The support vectors are : (1, 0), (0, 1), (1, 1), (0, 2)."
   ]
  },
  {
   "cell_type": "markdown",
   "metadata": {},
   "source": [
    "c/ If we remove a single support vector, then the size of the optimal margin either stays the same or increases.\n",
    "\n",
    "Explain: let the removed vector be A, and the point set without A is called S'.\n",
    "\n",
    "Now, let supposed the previous optimal margin was K. Now let re-use the hyperplane that provides optimal margin for (S' + A), then note that previously we have at least TWO support vectors, so after removing one of them, the margin for S' using that hyperplane would still remain the same. Note that this hyperplane may not provide optimal margin, so the optimal margin for S' would be larger than or equal to the old margin of (S' + A).\n",
    "\n",
    "For this particular dataset, if we remove either (1, 0) or (1, 1), the optimal margin increases from sqrt(2)/4 to 0.5.\n",
    "However, if we remove either (0, 1) or (2, 0) then the optimal margin remains the same."
   ]
  },
  {
   "cell_type": "markdown",
   "metadata": {},
   "source": [
    "d/ Using the same logic as explained in c, for a general dataset, if we remove a single support vector then the size of optimal margin also stays the same or increases."
   ]
  },
  {
   "cell_type": "markdown",
   "metadata": {},
   "source": [
    "QUESTION 3/\n",
    "1/ IF C >= 0, then using property 3 as shown in question 2 in tutorial 4: \" q[K < $ \\mathbf {x} , \\mathbf {x'}$ >] is a valid kernel, given that q[.] is a polynomial function with non-negative coefficients\", we use q(y) = cy, then q[< $ \\mathbf {x} , \\mathbf {x'}$ >] = c< $ \\mathbf {x} , \\mathbf {x'}$ >\n",
    "= K($ \\mathbf {x} , \\mathbf {x'}$) is a valid kernel (1)\n",
    "\n",
    "*However, IF C < 0, then let t = -c, then K($ \\mathbf {x} , \\mathbf {x'}$) = $ -t< \\mathbf {x} , \\mathbf {x'}> $ = -K1($ \\mathbf {x} , \\mathbf {x'}$) [where K1($ \\mathbf {x} , \\mathbf {x'}$) is a valid kernel based on (1)]. Let M be Gram Matrix for K1($ \\mathbf {x} , \\mathbf {x'}$), then -M will be Gram Matrix for K($ \\mathbf {x} , \\mathbf {x'}$). For every non-zero column vector z of n real numbers, $z^T M z $ >= 0, then $z^T (-M) z$ <=0 => Gram Matrix of K($ \\mathbf {x} , \\mathbf {x'}$) will be negative-semi definite => K($ \\mathbf {x} , \\mathbf {x'}$) is not a valid kernel\n",
    "\n",
    "2/ According to property 6.14 from textbook \"Pattern Recognition and Machine Learning\" of Christopher, k1($ \\mathbf {x} , \\mathbf {x'}$) = f(x)k2($ \\mathbf {x} , \\mathbf {x'}$)f(x') is a valid kernel (f, f' are functions, k1(x, x') is a valid kernel).\n",
    "\n",
    "Let f(x) = $ e  ^ {-|x| ^ 2} $\n",
    "\n",
    "Let f(x') = $ e  ^ {-|x'| ^ 2} $\n",
    "\n",
    "k2($ \\mathbf {x} , \\mathbf {x'}$) = $ < x, x' > ^ 0 $ which is a valid kernel according to property 3.\n",
    "\n",
    "So k1(x, x') = $ e  ^ {-|x| ^ 2}  e  ^ {-|x'| ^ 2} $ is a valid kernel.\n",
    "\n",
    "Also, k3(x, x') = $ < x, x' > ^ 2 $ is also a valid kernel according to property 3 in tutorial( it is a polynomial \n",
    "\n",
    "function of degree 2).\n",
    "\n",
    "We have: K($ \\mathbf {x} , \\mathbf {x'}$) = k1($ \\mathbf {x} , \\mathbf {x'}$) + k3($ \\mathbf {x} , \\mathbf {x'}$) \n",
    "\n",
    "=> K($ \\mathbf {x} , \\mathbf {x'}$) is a valid kernel according to property 1.\n"
   ]
  },
  {
   "cell_type": "markdown",
   "metadata": {},
   "source": [
    "## Statement of Individual Work\n",
    "\n",
    "Please initial (between the square brackets) one of the following statements.\n",
    "\n",
    "[X] I, A0161308M, certify that I have followed the CS 3244 Machine Learning class guidelines for homework assignments.  In particular, I expressly vow that I have followed the Facebook rule in discussing with others in doing the assignment and did not take notes (digital or printed) from the discussions.  \n",
    "\n",
    "[ ] I, <*substitute your matric number here*>, did not follow the class rules regarding the homework assignment, because of the following reason:\n",
    "\n",
    "<*Please fill in*>\n",
    "\n",
    "I suggest that I should be graded as follows:\n",
    "\n",
    "<*Please fill in*>\n",
    "\n",
    "### References\n",
    "\n",
    "I have refered to the following list of people and websites in preparing my homework submission:\n",
    "\n",
    "- Online resources for Python and Scikit-learn API.\n",
    "- People I discussed with: Huynh Thanh Duc Anh\n",
    "- Pattern Recognition and Machine Learning textbook"
   ]
  },
  {
   "cell_type": "code",
   "execution_count": null,
   "metadata": {
    "collapsed": true
   },
   "outputs": [],
   "source": []
  }
 ],
 "metadata": {
  "kernelspec": {
   "display_name": "Python 3",
   "language": "python",
   "name": "python3"
  },
  "language_info": {
   "codemirror_mode": {
    "name": "ipython",
    "version": 3
   },
   "file_extension": ".py",
   "mimetype": "text/x-python",
   "name": "python",
   "nbconvert_exporter": "python",
   "pygments_lexer": "ipython3",
   "version": "3.6.1"
  }
 },
 "nbformat": 4,
 "nbformat_minor": 1
}
